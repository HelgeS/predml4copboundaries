{
 "cells": [
  {
   "cell_type": "code",
   "execution_count": 1,
   "metadata": {},
   "outputs": [
    {
     "name": "stderr",
     "output_type": "stream",
     "text": [
      "Using TensorFlow backend.\n"
     ]
    }
   ],
   "source": [
    "%reload_ext autoreload\n",
    "%autoreload 2\n",
    "%matplotlib notebook\n",
    "import glob\n",
    "import os\n",
    "import pickle\n",
    "import pymzn\n",
    "import matplotlib.pyplot as plt\n",
    "import numpy as np\n",
    "import pandas as pd\n",
    "import seaborn as sns\n",
    "import config\n",
    "import data_loader\n",
    "import statsmodel"
   ]
  },
  {
   "cell_type": "code",
   "execution_count": 37,
   "metadata": {
    "collapsed": true
   },
   "outputs": [],
   "source": [
    "baseline = data_loader.get_baseline(include_failed=True)\n",
    "baseline['Failed'] = baseline['Failed'] | baseline['Objective'].isnull()\n",
    "#baseline = baseline.set_index(['Solver', 'Problem', 'DZN'])\n",
    "\n",
    "df = data_loader.join_result_csvs('.', '2DBinPacking_full_*_estimation.csv')\n",
    "#df = df.set_index(['Solver', 'Problem', 'DZN'])"
   ]
  },
  {
   "cell_type": "code",
   "execution_count": 38,
   "metadata": {
    "scrolled": true
   },
   "outputs": [
    {
     "data": {
      "text/html": [
       "<div>\n",
       "<style>\n",
       "    .dataframe thead tr:only-child th {\n",
       "        text-align: right;\n",
       "    }\n",
       "\n",
       "    .dataframe thead th {\n",
       "        text-align: left;\n",
       "    }\n",
       "\n",
       "    .dataframe tbody tr th {\n",
       "        vertical-align: top;\n",
       "    }\n",
       "</style>\n",
       "<table border=\"1\" class=\"dataframe\">\n",
       "  <thead>\n",
       "    <tr style=\"text-align: right;\">\n",
       "      <th></th>\n",
       "      <th></th>\n",
       "      <th>Complete</th>\n",
       "      <th>Duration</th>\n",
       "      <th>Failed</th>\n",
       "      <th>HasBound</th>\n",
       "      <th>ObjBound</th>\n",
       "      <th>Objective</th>\n",
       "    </tr>\n",
       "    <tr>\n",
       "      <th>Problem</th>\n",
       "      <th>Solver</th>\n",
       "      <th></th>\n",
       "      <th></th>\n",
       "      <th></th>\n",
       "      <th></th>\n",
       "      <th></th>\n",
       "      <th></th>\n",
       "    </tr>\n",
       "  </thead>\n",
       "  <tbody>\n",
       "    <tr>\n",
       "      <th rowspan=\"3\" valign=\"top\">2DBinPacking</th>\n",
       "      <th>cbc</th>\n",
       "      <td>0.928</td>\n",
       "      <td>18.262315</td>\n",
       "      <td>0.000</td>\n",
       "      <td>0.0</td>\n",
       "      <td>NaN</td>\n",
       "      <td>14.774000</td>\n",
       "    </tr>\n",
       "    <tr>\n",
       "      <th>chuffed</th>\n",
       "      <td>0.332</td>\n",
       "      <td>123.237371</td>\n",
       "      <td>0.668</td>\n",
       "      <td>0.0</td>\n",
       "      <td>NaN</td>\n",
       "      <td>11.048193</td>\n",
       "    </tr>\n",
       "    <tr>\n",
       "      <th>gecode</th>\n",
       "      <td>0.206</td>\n",
       "      <td>144.818231</td>\n",
       "      <td>0.780</td>\n",
       "      <td>0.0</td>\n",
       "      <td>NaN</td>\n",
       "      <td>7.972727</td>\n",
       "    </tr>\n",
       "  </tbody>\n",
       "</table>\n",
       "</div>"
      ],
      "text/plain": [
       "                      Complete    Duration  Failed  HasBound  ObjBound  \\\n",
       "Problem      Solver                                                      \n",
       "2DBinPacking cbc         0.928   18.262315   0.000       0.0       NaN   \n",
       "             chuffed     0.332  123.237371   0.668       0.0       NaN   \n",
       "             gecode      0.206  144.818231   0.780       0.0       NaN   \n",
       "\n",
       "                      Objective  \n",
       "Problem      Solver              \n",
       "2DBinPacking cbc      14.774000  \n",
       "             chuffed  11.048193  \n",
       "             gecode    7.972727  "
      ]
     },
     "execution_count": 38,
     "metadata": {},
     "output_type": "execute_result"
    }
   ],
   "source": [
    "baseline[baseline.Problem == '2DBinPacking'].groupby(['Problem', 'Solver']).mean()"
   ]
  },
  {
   "cell_type": "code",
   "execution_count": 39,
   "metadata": {},
   "outputs": [
    {
     "data": {
      "text/html": [
       "<div>\n",
       "<style>\n",
       "    .dataframe thead tr:only-child th {\n",
       "        text-align: right;\n",
       "    }\n",
       "\n",
       "    .dataframe thead th {\n",
       "        text-align: left;\n",
       "    }\n",
       "\n",
       "    .dataframe tbody tr th {\n",
       "        vertical-align: top;\n",
       "    }\n",
       "</style>\n",
       "<table border=\"1\" class=\"dataframe\">\n",
       "  <thead>\n",
       "    <tr style=\"text-align: right;\">\n",
       "      <th></th>\n",
       "      <th></th>\n",
       "      <th>Duration</th>\n",
       "      <th>Objective</th>\n",
       "      <th>Complete</th>\n",
       "      <th>Failed</th>\n",
       "      <th>HasBound</th>\n",
       "      <th>ObjBound</th>\n",
       "    </tr>\n",
       "    <tr>\n",
       "      <th>Problem</th>\n",
       "      <th>Solver</th>\n",
       "      <th></th>\n",
       "      <th></th>\n",
       "      <th></th>\n",
       "      <th></th>\n",
       "      <th></th>\n",
       "      <th></th>\n",
       "    </tr>\n",
       "  </thead>\n",
       "  <tbody>\n",
       "    <tr>\n",
       "      <th rowspan=\"3\" valign=\"top\">2DBinPacking</th>\n",
       "      <th>cbc</th>\n",
       "      <td>46.664859</td>\n",
       "      <td>14.175983</td>\n",
       "      <td>0.917671</td>\n",
       "      <td>0.03012</td>\n",
       "      <td>1.0</td>\n",
       "      <td>16.124498</td>\n",
       "    </tr>\n",
       "    <tr>\n",
       "      <th>chuffed</th>\n",
       "      <td>136.099440</td>\n",
       "      <td>10.600000</td>\n",
       "      <td>0.250000</td>\n",
       "      <td>0.00000</td>\n",
       "      <td>1.0</td>\n",
       "      <td>16.090000</td>\n",
       "    </tr>\n",
       "    <tr>\n",
       "      <th>gecode</th>\n",
       "      <td>153.562880</td>\n",
       "      <td>5.133333</td>\n",
       "      <td>0.150000</td>\n",
       "      <td>0.85000</td>\n",
       "      <td>1.0</td>\n",
       "      <td>16.090000</td>\n",
       "    </tr>\n",
       "  </tbody>\n",
       "</table>\n",
       "</div>"
      ],
      "text/plain": [
       "                        Duration  Objective  Complete   Failed  HasBound  \\\n",
       "Problem      Solver                                                        \n",
       "2DBinPacking cbc       46.664859  14.175983  0.917671  0.03012       1.0   \n",
       "             chuffed  136.099440  10.600000  0.250000  0.00000       1.0   \n",
       "             gecode   153.562880   5.133333  0.150000  0.85000       1.0   \n",
       "\n",
       "                       ObjBound  \n",
       "Problem      Solver              \n",
       "2DBinPacking cbc      16.124498  \n",
       "             chuffed  16.090000  \n",
       "             gecode   16.090000  "
      ]
     },
     "execution_count": 39,
     "metadata": {},
     "output_type": "execute_result"
    }
   ],
   "source": [
    "df.groupby(['Problem', 'Solver']).mean()"
   ]
  }
 ],
 "metadata": {
  "anaconda-cloud": {},
  "kernelspec": {
   "display_name": "Python [conda env:py3]",
   "language": "python",
   "name": "conda-env-py3-py"
  },
  "language_info": {
   "codemirror_mode": {
    "name": "ipython",
    "version": 3
   },
   "file_extension": ".py",
   "mimetype": "text/x-python",
   "name": "python",
   "nbconvert_exporter": "python",
   "pygments_lexer": "ipython3",
   "version": "3.5.3"
  }
 },
 "nbformat": 4,
 "nbformat_minor": 2
}
