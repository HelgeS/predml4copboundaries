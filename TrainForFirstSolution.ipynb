{
 "cells": [
  {
   "cell_type": "code",
   "execution_count": 1,
   "metadata": {},
   "outputs": [
    {
     "name": "stderr",
     "output_type": "stream",
     "text": [
      "Using TensorFlow backend.\n"
     ]
    }
   ],
   "source": [
    "%matplotlib inline\n",
    "import matplotlib.pyplot as plt\n",
    "import seaborn as sns\n",
    "import numpy as np\n",
    "import pandas as pd\n",
    "import os\n",
    "\n",
    "import config\n",
    "import data_loader\n",
    "import features\n",
    "import model"
   ]
  },
  {
   "cell_type": "markdown",
   "metadata": {},
   "source": [
    "We describe an alternative loss function, that includes both the optimum and the first found solution of the solver (which we have to beat to make an impact with boundary estimation)."
   ]
  },
  {
   "cell_type": "code",
   "execution_count": 31,
   "metadata": {},
   "outputs": [
    {
     "data": {
      "text/plain": [
       "<matplotlib.lines.Line2D at 0x7f6b91f63ac8>"
      ]
     },
     "execution_count": 31,
     "metadata": {},
     "output_type": "execute_result"
    },
    {
     "data": {
      "image/png": "[encoded data removed]",
      "text/plain": [
       "<Figure size 432x288 with 1 Axes>"
      ]
     },
     "metadata": {
      "needs_background": "light"
     },
     "output_type": "display_data"
    }
   ],
   "source": [
    "def double_bound_loss(pred, opt, firstsol, linear_scale=0.5):\n",
    "    return np.where((opt <= pred) & (pred <= firstsol),\n",
    "                    linear_scale * (pred - opt),\n",
    "                    0) + np.where((pred < opt), (pred - opt)**2, 0) + np.where((firstsol < pred), linear_scale * (firstsol-opt) + (pred - firstsol)**2, 0)\n",
    "\n",
    "opt = 100\n",
    "firstsol = 150\n",
    "loss_inp = np.array(range(90, 160))\n",
    "loss_res = double_bound_loss(loss_inp, opt, firstsol)\n",
    "plt.plot(loss_inp, loss_res)\n",
    "ax = plt.gca()\n",
    "ax.axvline(opt)\n",
    "ax.axvline(firstsol)"
   ]
  },
  {
   "cell_type": "markdown",
   "metadata": {},
   "source": [
    "In the next sections, we export the optima and first solutions for all instances, but we also identify the instances for which we lack a first solution (due to timeouts in our normal runs) and create a file to identify these solutions."
   ]
  },
  {
   "cell_type": "code",
   "execution_count": 2,
   "metadata": {},
   "outputs": [],
   "source": [
    "def first_solutions(mzn_name, solver=None, logfile='logs/solver_evaluation_o2_scaled_y.csv'):\n",
    "    df = pd.read_csv(logfile)\n",
    "    df.mzn = df.mzn.str.replace('_boundest.mzn', '.mzn')\n",
    "    \n",
    "    df = df[(df.bounds == 'No') & (df.mzn == mzn_name)][['mzn', 'dzn', 'solver', 'first_objective']]\n",
    "\n",
    "    if solver:\n",
    "        df = df[df.solver == solver]\n",
    "    else:\n",
    "        df = df.groupby(['mzn', 'dzn'], as_index=False).min()\n",
    "    \n",
    "    return pd.DataFrame(df[df.first_objective.notnull()][['mzn', 'dzn', 'first_objective']])\n"
   ]
  },
  {
   "cell_type": "code",
   "execution_count": 80,
   "metadata": {},
   "outputs": [],
   "source": [
    "df = pd.read_csv('logs/solver_evaluation_o2_scaled_y.csv')\n",
    "df = df[(df.bounds == 'No') & (df.mzn != 'tsp.mzn')][['mzn', 'dzn', 'solver', 'first_objective']]\n",
    "df.sort_values(['mzn', 'dzn', 'solver', 'first_objective'], inplace=True)\n",
    "missing_first = df[df.first_objective.isna() | (df.mzn == '2DLevelPacking.mzn')]\n",
    "df = df[~df.first_objective.isna()]\n",
    "df['first_objective'] = df['first_objective'].astype(int)\n",
    "df.to_csv('first_solutions_found.csv', index=False)"
   ]
  },
  {
   "cell_type": "code",
   "execution_count": 81,
   "metadata": {},
   "outputs": [
    {
     "data": {
      "text/plain": [
       "array(['2DLevelPacking.mzn', 'cutstock.mzn', 'mrcpsp.mzn'], dtype=object)"
      ]
     },
     "execution_count": 81,
     "metadata": {},
     "output_type": "execute_result"
    }
   ],
   "source": [
    "missing_first.mzn.unique()"
   ]
  },
  {
   "cell_type": "code",
   "execution_count": 82,
   "metadata": {},
   "outputs": [],
   "source": [
    "with open('find_missing', 'w') as f:\n",
    "    for i, (_, r) in enumerate(missing_first.iterrows()):\n",
    "        mzn = r.mzn.replace('.mzn', '_satisfy.mzn')\n",
    "        log_name = \"{}_{}_{}_firstsol.txt\".format(r.solver, r.mzn, r.dzn)\n",
    "        output = \"{};{};{};\\\\1\".format(r.solver, r.mzn, r.dzn)\n",
    "        print(\"minizinc --solver {} $(find . -name {}) $(find . -name {}) | grep objective | sed 's/^objective = \\(.*\\);/{}/' > {}\".format(r.solver, mzn, r.dzn, output, log_name), file=f)\n"
   ]
  },
  {
   "cell_type": "code",
   "execution_count": 35,
   "metadata": {},
   "outputs": [],
   "source": [
    "def get_data(p):\n",
    "    firstsol = first_solutions(p.mzn)\n",
    "    X, y = features.cached_feature_matrix(p, include_opt=True, include_mzn2feat=True)\n",
    "    y = pd.concat([y, firstsol.set_index('dzn')], axis=1, join='inner')\n",
    "    return X, y   "
   ]
  },
  {
   "cell_type": "code",
   "execution_count": 41,
   "metadata": {},
   "outputs": [],
   "source": [
    "from keras import backend as K\n",
    "from keras import regularizers, callbacks\n",
    "from keras.engine import Input, Model\n",
    "from keras.layers import average, maximum, Dense\n",
    "from keras.optimizers import Adam\n",
    "from keras.wrappers.scikit_learn import KerasRegressor\n",
    "from sklearn.metrics import make_scorer\n",
    "from sklearn.model_selection import GridSearchCV, train_test_split\n",
    "from sklearn.preprocessing import MinMaxScaler, StandardScaler\n",
    "\n",
    "def get_model(input_dim):\n",
    "    hidden_nodes = 32\n",
    "    hidden_layers = 3\n",
    "    outputs = 1\n",
    "    initializer = 'glorot_normal'\n",
    "\n",
    "    regularizer = regularizers.l2(0.001)\n",
    "\n",
    "    inp = Input(shape=(input_dim,))\n",
    "\n",
    "    x = Dense(hidden_nodes, activation='tanh',\n",
    "              kernel_initializer=initializer,\n",
    "              kernel_regularizer=regularizer,\n",
    "              use_bias=False)(inp)\n",
    "\n",
    "    for i in range(1, hidden_layers - (outputs == 2)):\n",
    "        x = Dense(hidden_nodes, activation='tanh',\n",
    "                  bias_initializer='ones',\n",
    "                  kernel_initializer=initializer,\n",
    "                  kernel_regularizer=regularizer)(x)\n",
    "\n",
    "    output_activation = 'sigmoid' # 'sigmoid'  # 'linear'\n",
    "    pred = Dense(1, activation=output_activation, bias_initializer='ones')(x)\n",
    "\n",
    "    linear_scale = 1\n",
    "    loss = K.tf.where(K.less(pred, opt),\n",
    "                      linear_scale * (firstsol-opt)**2 + (opt - pred)**2, \n",
    "                      K.zeros(shape=(opt.shape[0], 1))) + \\\n",
    "           K.tf.where(K.tf.logical_and(K.less_equal(opt, pred), K.less_equal(pred, firstsol)),\n",
    "                      linear_scale * (pred - opt),\n",
    "                      K.zeros(shape=(opt.shape[0], 1))) + \\\n",
    "           K.tf.where(K.less(firstsol, pred), \n",
    "                      linear_scale * (firstsol-opt)**2 + (pred - firstsol)**2, \n",
    "                      K.zeros(shape=(opt.shape[0], 1)))\n",
    "\n",
    "    #print(opt, firstsol)\n",
    "\n",
    "    reduce_lr = callbacks.ReduceLROnPlateau(monitor='loss', factor=0.5, patience=5, min_lr=0.00001)\n",
    "    early_stop = callbacks.EarlyStopping(patience=11)\n",
    "\n",
    "    #loss = (K.tf.where(K.tf.logical_and(K.less_equal(opt, pred), K.less_equal(pred, firstsol)), \n",
    "    #                   0.5*(pred - opt), \n",
    "    #                   K.tf.maximum(0.5*(opt-firstsol), 0) + (pred - opt)**2)) #+ (pred < opt) * (pred - opt)**2 + (firstsol < pred) * ((firstsol-opt) + (pred-firstsol)**2)\n",
    "    loss = K.mean(loss)\n",
    "    optimizer = Adam(lr=1e-2)\n",
    "    model = Model([inp], pred)\n",
    "    #model.add_loss(loss)\n",
    "    model.compile(loss='mse', optimizer=optimizer, metrics=['mape', 'mse'])  # model.add_loss(loss)\n",
    "    return model\n",
    "\n",
    "def prepare_data(X, y):\n",
    "    X_train_unscaled, X_val_unscaled, y_train, y_val = train_test_split(X, y, test_size=0.2)\n",
    "\n",
    "    #x_scaler = MinMaxScaler((-1, 1))\n",
    "    x_scaler = StandardScaler()\n",
    "    X_train = x_scaler.fit_transform(X_train_unscaled)\n",
    "    X_val = x_scaler.transform(X_val_unscaled)\n",
    "\n",
    "    y_scaler = MinMaxScaler().fit(np.array([y_train['dom_lower'].min(), y_train['dom_upper'].max()]).astype(np.float32).reshape(-1, 1))\n",
    "\n",
    "    opt = y_scaler.transform(y_train['optimum'].values.astype(np.float32).reshape(-1, 1))\n",
    "    firstsol = y_scaler.transform(y_train['first_objective'].values.astype(np.float32).reshape(-1, 1))\n",
    "\n",
    "    #opt = y_train['optimum'].values.astype(np.float32).reshape(-1, 1)\n",
    "    #firstsol = y_train['first_objective'].values.astype(np.float32).reshape(-1, 1)\n",
    "    \n",
    "    return X_train, X_val, y_train, y_val, opt, firstsol\n"
   ]
  },
  {
   "cell_type": "code",
   "execution_count": null,
   "metadata": {},
   "outputs": [],
   "source": [
    "model = get_model()\n",
    "\n",
    "hist = model.fit(X_train, opt+(firstsol-opt)/4, batch_size=32, epochs=2000, verbose=0)  #y_train.shape[0]\n",
    "print(hist.history['loss'][-1])\n",
    "y_pred = model.predict(X_val)\n",
    "y_val['pred_unsc'] = y_pred\n",
    "y_val['pred'] = y_scaler.inverse_transform(y_pred)\n",
    "y_val"
   ]
  },
  {
   "cell_type": "code",
   "execution_count": 38,
   "metadata": {},
   "outputs": [],
   "source": [
    "def fixed_bounds(y_train, y_val):\n",
    "    rows = []\n",
    "    for i in range(1, 44):\n",
    "        i = i/4\n",
    "        fixed_bound = y_train['optimum'].mean() + (y_train['first_objective'].mean() - y_train['optimum'].mean()) / i\n",
    "        good_estimates = ((y_val['optimum'] <= fixed_bound) & (fixed_bound <= y_val['first_objective'])).mean().round(4)*100\n",
    "        opt_gap = ((fixed_bound - y_val['optimum'])/(y_val['first_objective'] - y_val['optimum'])).mean().round(4)*100\n",
    "        print(i, '\\t', good_estimates, '\\t', opt_gap)\n",
    "        rows.append((i, good_estimates, opt_gap))\n",
    "        \n",
    "    df = pd.DataFrame(rows, columns=['i', 'good_estimates', 'opt_gap'])\n",
    "    df['method'] = 'mean'\n",
    "    return df"
   ]
  },
  {
   "cell_type": "code",
   "execution_count": 39,
   "metadata": {},
   "outputs": [],
   "source": [
    "def model_bounds(X_train, X_val, y_train, y_val):\n",
    "    rows = []\n",
    "    for i in range(1, 44):\n",
    "        i = i/4\n",
    "        y_label = y_train['optimum'] + (y_train['first_objective'] - y_train['optimum']) / i\n",
    "        y_label = y_scaler.transform(y_label.values.reshape(-1, 1))\n",
    "        y_label_val = y_val['optimum'] + (y_val['first_objective'] - y_val['optimum']) / i\n",
    "\n",
    "        model = get_model()\n",
    "        \n",
    "        reduce_lr = callbacks.ReduceLROnPlateau(monitor='val_loss', factor=0.5, patience=10, min_lr=0.00001)\n",
    "        early_stop = callbacks.EarlyStopping(patience=11)\n",
    "        \n",
    "        hist = model.fit(X_train, y_label, batch_size=16, epochs=1000, verbose=0, callbacks=[reduce_lr, early_stop], validation_data=(X_val, y_val))  #y_train.shape[0]\n",
    "        y_pred_scaled = model.predict(X_val)\n",
    "        y_pred = y_scaler.inverse_transform(y_pred_scaled)[:, 0]\n",
    "        good_estimates = ((y_val['optimum'] <= y_pred) & (y_pred <= y_val['first_objective'])).mean().round(4)*100\n",
    "        opt_gap = ((y_pred - y_val['optimum'])/(y_val['first_objective'] - y_val['optimum'])).mean().round(4)*100\n",
    "        print(i, '\\t', good_estimates, '\\t', opt_gap, '\\t', hist.history['loss'][-1])\n",
    "        \n",
    "    df = pd.DataFrame(rows, columns=['i', 'good_estimates', 'opt_gap'])\n",
    "    df['method'] = 'model'\n",
    "    return df"
   ]
  },
  {
   "cell_type": "code",
   "execution_count": 44,
   "metadata": {},
   "outputs": [
    {
     "name": "stdout",
     "output_type": "stream",
     "text": [
      "rcpsp.mzn (2907, 151) (100, 6)\n",
      "(2907, 151) (100, 6)\n"
     ]
    },
    {
     "ename": "ValueError",
     "evalue": "Found input variables with inconsistent numbers of samples: [2907, 100]",
     "output_type": "error",
     "traceback": [
      "\u001b[0;31m---------------------------------------------------------------------------\u001b[0m",
      "\u001b[0;31mValueError\u001b[0m                                Traceback (most recent call last)",
      "\u001b[0;32m<ipython-input-44-99032f313a5e>\u001b[0m in \u001b[0;36m<module>\u001b[0;34m\u001b[0m\n\u001b[1;32m      6\u001b[0m     \u001b[0mX\u001b[0m\u001b[0;34m,\u001b[0m \u001b[0my\u001b[0m \u001b[0;34m=\u001b[0m \u001b[0mget_data\u001b[0m\u001b[0;34m(\u001b[0m\u001b[0mp\u001b[0m\u001b[0;34m)\u001b[0m\u001b[0;34m\u001b[0m\u001b[0;34m\u001b[0m\u001b[0m\n\u001b[1;32m      7\u001b[0m     \u001b[0mprint\u001b[0m\u001b[0;34m(\u001b[0m\u001b[0mp\u001b[0m\u001b[0;34m.\u001b[0m\u001b[0mmzn\u001b[0m\u001b[0;34m,\u001b[0m \u001b[0mX\u001b[0m\u001b[0;34m.\u001b[0m\u001b[0mshape\u001b[0m\u001b[0;34m,\u001b[0m \u001b[0my\u001b[0m\u001b[0;34m.\u001b[0m\u001b[0mshape\u001b[0m\u001b[0;34m)\u001b[0m\u001b[0;34m\u001b[0m\u001b[0;34m\u001b[0m\u001b[0m\n\u001b[0;32m----> 8\u001b[0;31m     \u001b[0mX_train\u001b[0m\u001b[0;34m,\u001b[0m \u001b[0mX_val\u001b[0m\u001b[0;34m,\u001b[0m \u001b[0my_train\u001b[0m\u001b[0;34m,\u001b[0m \u001b[0my_val\u001b[0m\u001b[0;34m,\u001b[0m \u001b[0mopt\u001b[0m\u001b[0;34m,\u001b[0m \u001b[0mfirstsol\u001b[0m \u001b[0;34m=\u001b[0m \u001b[0mprepare_data\u001b[0m\u001b[0;34m(\u001b[0m\u001b[0mX\u001b[0m\u001b[0;34m,\u001b[0m \u001b[0my\u001b[0m\u001b[0;34m)\u001b[0m\u001b[0;34m\u001b[0m\u001b[0;34m\u001b[0m\u001b[0m\n\u001b[0m\u001b[1;32m      9\u001b[0m     \u001b[0mmodel\u001b[0m \u001b[0;34m=\u001b[0m \u001b[0mget_model\u001b[0m\u001b[0;34m(\u001b[0m\u001b[0mX\u001b[0m\u001b[0;34m.\u001b[0m\u001b[0mshape\u001b[0m\u001b[0;34m[\u001b[0m\u001b[0;36m1\u001b[0m\u001b[0;34m]\u001b[0m\u001b[0;34m)\u001b[0m\u001b[0;34m\u001b[0m\u001b[0;34m\u001b[0m\u001b[0m\n\u001b[1;32m     10\u001b[0m     \u001b[0mdf1\u001b[0m \u001b[0;34m=\u001b[0m \u001b[0mfixed_bounds\u001b[0m\u001b[0;34m(\u001b[0m\u001b[0my_train\u001b[0m\u001b[0;34m,\u001b[0m \u001b[0my_val\u001b[0m\u001b[0;34m)\u001b[0m\u001b[0;34m\u001b[0m\u001b[0;34m\u001b[0m\u001b[0m\n",
      "\u001b[0;32m<ipython-input-41-c7249a6b4f71>\u001b[0m in \u001b[0;36mprepare_data\u001b[0;34m(X, y)\u001b[0m\n\u001b[1;32m     61\u001b[0m \u001b[0;32mdef\u001b[0m \u001b[0mprepare_data\u001b[0m\u001b[0;34m(\u001b[0m\u001b[0mX\u001b[0m\u001b[0;34m,\u001b[0m \u001b[0my\u001b[0m\u001b[0;34m)\u001b[0m\u001b[0;34m:\u001b[0m\u001b[0;34m\u001b[0m\u001b[0;34m\u001b[0m\u001b[0m\n\u001b[1;32m     62\u001b[0m     \u001b[0mprint\u001b[0m\u001b[0;34m(\u001b[0m\u001b[0mX\u001b[0m\u001b[0;34m.\u001b[0m\u001b[0mshape\u001b[0m\u001b[0;34m,\u001b[0m \u001b[0my\u001b[0m\u001b[0;34m.\u001b[0m\u001b[0mshape\u001b[0m\u001b[0;34m)\u001b[0m\u001b[0;34m\u001b[0m\u001b[0;34m\u001b[0m\u001b[0m\n\u001b[0;32m---> 63\u001b[0;31m     \u001b[0mX_train_unscaled\u001b[0m\u001b[0;34m,\u001b[0m \u001b[0mX_val_unscaled\u001b[0m\u001b[0;34m,\u001b[0m \u001b[0my_train\u001b[0m\u001b[0;34m,\u001b[0m \u001b[0my_val\u001b[0m \u001b[0;34m=\u001b[0m \u001b[0mtrain_test_split\u001b[0m\u001b[0;34m(\u001b[0m\u001b[0mX\u001b[0m\u001b[0;34m,\u001b[0m \u001b[0my\u001b[0m\u001b[0;34m,\u001b[0m \u001b[0mtest_size\u001b[0m\u001b[0;34m=\u001b[0m\u001b[0;36m0.2\u001b[0m\u001b[0;34m)\u001b[0m\u001b[0;34m\u001b[0m\u001b[0;34m\u001b[0m\u001b[0m\n\u001b[0m\u001b[1;32m     64\u001b[0m \u001b[0;34m\u001b[0m\u001b[0m\n\u001b[1;32m     65\u001b[0m     \u001b[0;31m#x_scaler = MinMaxScaler((-1, 1))\u001b[0m\u001b[0;34m\u001b[0m\u001b[0;34m\u001b[0m\u001b[0;34m\u001b[0m\u001b[0m\n",
      "\u001b[0;32m~/anaconda3/envs/banditcp/lib/python3.6/site-packages/sklearn/model_selection/_split.py\u001b[0m in \u001b[0;36mtrain_test_split\u001b[0;34m(*arrays, **options)\u001b[0m\n\u001b[1;32m   2182\u001b[0m         \u001b[0mtest_size\u001b[0m \u001b[0;34m=\u001b[0m \u001b[0;36m0.25\u001b[0m\u001b[0;34m\u001b[0m\u001b[0;34m\u001b[0m\u001b[0m\n\u001b[1;32m   2183\u001b[0m \u001b[0;34m\u001b[0m\u001b[0m\n\u001b[0;32m-> 2184\u001b[0;31m     \u001b[0marrays\u001b[0m \u001b[0;34m=\u001b[0m \u001b[0mindexable\u001b[0m\u001b[0;34m(\u001b[0m\u001b[0;34m*\u001b[0m\u001b[0marrays\u001b[0m\u001b[0;34m)\u001b[0m\u001b[0;34m\u001b[0m\u001b[0;34m\u001b[0m\u001b[0m\n\u001b[0m\u001b[1;32m   2185\u001b[0m \u001b[0;34m\u001b[0m\u001b[0m\n\u001b[1;32m   2186\u001b[0m     \u001b[0;32mif\u001b[0m \u001b[0mshuffle\u001b[0m \u001b[0;32mis\u001b[0m \u001b[0;32mFalse\u001b[0m\u001b[0;34m:\u001b[0m\u001b[0;34m\u001b[0m\u001b[0;34m\u001b[0m\u001b[0m\n",
      "\u001b[0;32m~/anaconda3/envs/banditcp/lib/python3.6/site-packages/sklearn/utils/validation.py\u001b[0m in \u001b[0;36mindexable\u001b[0;34m(*iterables)\u001b[0m\n\u001b[1;32m    258\u001b[0m         \u001b[0;32melse\u001b[0m\u001b[0;34m:\u001b[0m\u001b[0;34m\u001b[0m\u001b[0;34m\u001b[0m\u001b[0m\n\u001b[1;32m    259\u001b[0m             \u001b[0mresult\u001b[0m\u001b[0;34m.\u001b[0m\u001b[0mappend\u001b[0m\u001b[0;34m(\u001b[0m\u001b[0mnp\u001b[0m\u001b[0;34m.\u001b[0m\u001b[0marray\u001b[0m\u001b[0;34m(\u001b[0m\u001b[0mX\u001b[0m\u001b[0;34m)\u001b[0m\u001b[0;34m)\u001b[0m\u001b[0;34m\u001b[0m\u001b[0;34m\u001b[0m\u001b[0m\n\u001b[0;32m--> 260\u001b[0;31m     \u001b[0mcheck_consistent_length\u001b[0m\u001b[0;34m(\u001b[0m\u001b[0;34m*\u001b[0m\u001b[0mresult\u001b[0m\u001b[0;34m)\u001b[0m\u001b[0;34m\u001b[0m\u001b[0;34m\u001b[0m\u001b[0m\n\u001b[0m\u001b[1;32m    261\u001b[0m     \u001b[0;32mreturn\u001b[0m \u001b[0mresult\u001b[0m\u001b[0;34m\u001b[0m\u001b[0;34m\u001b[0m\u001b[0m\n\u001b[1;32m    262\u001b[0m \u001b[0;34m\u001b[0m\u001b[0m\n",
      "\u001b[0;32m~/anaconda3/envs/banditcp/lib/python3.6/site-packages/sklearn/utils/validation.py\u001b[0m in \u001b[0;36mcheck_consistent_length\u001b[0;34m(*arrays)\u001b[0m\n\u001b[1;32m    233\u001b[0m     \u001b[0;32mif\u001b[0m \u001b[0mlen\u001b[0m\u001b[0;34m(\u001b[0m\u001b[0muniques\u001b[0m\u001b[0;34m)\u001b[0m \u001b[0;34m>\u001b[0m \u001b[0;36m1\u001b[0m\u001b[0;34m:\u001b[0m\u001b[0;34m\u001b[0m\u001b[0;34m\u001b[0m\u001b[0m\n\u001b[1;32m    234\u001b[0m         raise ValueError(\"Found input variables with inconsistent numbers of\"\n\u001b[0;32m--> 235\u001b[0;31m                          \" samples: %r\" % [int(l) for l in lengths])\n\u001b[0m\u001b[1;32m    236\u001b[0m \u001b[0;34m\u001b[0m\u001b[0m\n\u001b[1;32m    237\u001b[0m \u001b[0;34m\u001b[0m\u001b[0m\n",
      "\u001b[0;31mValueError\u001b[0m: Found input variables with inconsistent numbers of samples: [2907, 100]"
     ]
    }
   ],
   "source": [
    "dfs = []\n",
    "\n",
    "for p in config.PROBLEMS:\n",
    "    if p.mzn in ('mrcpsp.mzn', '2DLevelPacking.mzn', 'cutstock.mzn'):\n",
    "        continue\n",
    "    X, y = get_data(p)    \n",
    "    print(p.mzn, X.shape, y.shape)\n",
    "    X_train, X_val, y_train, y_val, opt, firstsol = prepare_data(X, y)\n",
    "    model = get_model(X.shape[1])\n",
    "    df1 = fixed_bounds(y_train, y_val)\n",
    "    df1['problem'] = p.mzn\n",
    "    dfs.append(df1)\n",
    "    #df2 = model_bounds(X_train, X_val, y_train, y_val)\n",
    "    #df2['problem'] = p.mzn\n",
    "    #dfs.append(df2)\n",
    "\n",
    "pd.concat(dfs)"
   ]
  },
  {
   "cell_type": "code",
   "execution_count": 96,
   "metadata": {},
   "outputs": [
    {
     "data": {
      "text/html": [
       "<div>\n",
       "<style scoped>\n",
       "    .dataframe tbody tr th:only-of-type {\n",
       "        vertical-align: middle;\n",
       "    }\n",
       "\n",
       "    .dataframe tbody tr th {\n",
       "        vertical-align: top;\n",
       "    }\n",
       "\n",
       "    .dataframe thead th {\n",
       "        text-align: right;\n",
       "    }\n",
       "</style>\n",
       "<table border=\"1\" class=\"dataframe\">\n",
       "  <thead>\n",
       "    <tr style=\"text-align: right;\">\n",
       "      <th></th>\n",
       "      <th>mzn</th>\n",
       "      <th>dzn</th>\n",
       "      <th>solver</th>\n",
       "      <th>first_objective</th>\n",
       "    </tr>\n",
       "  </thead>\n",
       "  <tbody>\n",
       "    <tr>\n",
       "      <th>7</th>\n",
       "      <td>mrcpsp.mzn</td>\n",
       "      <td>j20_13_10.dzn</td>\n",
       "      <td>chuffed</td>\n",
       "      <td>44.0</td>\n",
       "    </tr>\n",
       "    <tr>\n",
       "      <th>19</th>\n",
       "      <td>mrcpsp.mzn</td>\n",
       "      <td>j20_13_10.dzn</td>\n",
       "      <td>ortools</td>\n",
       "      <td>44.0</td>\n",
       "    </tr>\n",
       "    <tr>\n",
       "      <th>25</th>\n",
       "      <td>mrcpsp.mzn</td>\n",
       "      <td>j20_37_7.dzn</td>\n",
       "      <td>chuffed</td>\n",
       "      <td>56.0</td>\n",
       "    </tr>\n",
       "    <tr>\n",
       "      <th>31</th>\n",
       "      <td>mrcpsp.mzn</td>\n",
       "      <td>j20_37_7.dzn</td>\n",
       "      <td>gecode</td>\n",
       "      <td>56.0</td>\n",
       "    </tr>\n",
       "    <tr>\n",
       "      <th>37</th>\n",
       "      <td>jobshop.mzn</td>\n",
       "      <td>jobshop_swv08.dzn</td>\n",
       "      <td>ortools</td>\n",
       "      <td>2637.0</td>\n",
       "    </tr>\n",
       "  </tbody>\n",
       "</table>\n",
       "</div>"
      ],
      "text/plain": [
       "            mzn                dzn   solver  first_objective\n",
       "7    mrcpsp.mzn      j20_13_10.dzn  chuffed             44.0\n",
       "19   mrcpsp.mzn      j20_13_10.dzn  ortools             44.0\n",
       "25   mrcpsp.mzn       j20_37_7.dzn  chuffed             56.0\n",
       "31   mrcpsp.mzn       j20_37_7.dzn   gecode             56.0\n",
       "37  jobshop.mzn  jobshop_swv08.dzn  ortools           2637.0"
      ]
     },
     "execution_count": 96,
     "metadata": {},
     "output_type": "execute_result"
    }
   ],
   "source": [
    "logfile='logs/solver_evaluation_o2_scaled_y.csv'\n",
    "df = pd.read_csv(logfile)\n",
    "df = df[(df.bounds == 'No') & (~df.first_objective.isna()) & (~df.mzn.isin(['2DLevelPacking.mzn','cutstock.mzn']))][['mzn', 'dzn', 'solver', 'first_objective']]\n",
    "df.head()"
   ]
  },
  {
   "cell_type": "code",
   "execution_count": 19,
   "metadata": {},
   "outputs": [],
   "source": [
    "firstsols = pd.read_csv('logs/solver_evaluation_o2_scaled_y.csv')\n",
    "firstsols = firstsols.loc[~firstsols.first_objective.isna(), ['solver', 'mzn', 'dzn', 'first_objective']]\n",
    "firstsols['first_objective'] = firstsols['first_objective'].astype(int)\n",
    "firstsols.sort_values(['solver', 'mzn', 'dzn']).to_csv('firstsol2.csv', index=False, sep=';', header=False)"
   ]
  },
  {
   "cell_type": "code",
   "execution_count": 20,
   "metadata": {},
   "outputs": [],
   "source": [
    "firstsols = pd.read_csv('/home/helge/Sync/firstsol.csv', sep=';', names=['solver', 'mzn', 'dzn', 'first_objective'])\n",
    "solvers = ('gecode', 'chuffed', 'ortools')\n",
    "missing = []\n",
    "\n",
    "with open('find_missing', 'w') as f:\n",
    "    for p in config.PROBLEMS:\n",
    "        mzn = os.path.basename(p.mzn_path)                \n",
    "        mzn_sat = p.mzn_path.replace('.mzn', '_satisfy.mzn')\n",
    "\n",
    "        for d, dpath in p.get_dzns():\n",
    "            for s in solvers:\n",
    "                if firstsols[(firstsols.mzn == mzn) & (firstsols.dzn == d) & (firstsols.solver == s)].empty:\n",
    "                    missing.append((mzn, d, s))\n",
    "                    output = \"{};{};{};\\\\1\".format(s, mzn, d)\n",
    "                    \n",
    "                    log_name = \"{}_{}_{}_firstsol.txt\".format(s, mzn, d)\n",
    "                    print(\"minizinc --solver {} {} {} | grep {} | sed 's/^{} = \\(.*\\);/{}/' > minizinc-benchmarks/{}\".format(s, mzn_sat, dpath, p.objective_var, p.objective_var, output, log_name), file=f)\n",
    "\n",
    "missing = pd.DataFrame(missing, columns=['mzn', 'dzn', 'solver'])"
   ]
  },
  {
   "cell_type": "code",
   "execution_count": 8,
   "metadata": {},
   "outputs": [
    {
     "name": "stdout",
     "output_type": "stream",
     "text": [
      "minizinc-benchmarks/mrcpsp/mrcpsp.mzn\n",
      "minizinc-benchmarks/mrcpsp\n",
      "minizinc-benchmarks/rcpsp/rcpsp.mzn\n",
      "minizinc-benchmarks/rcpsp\n",
      "minizinc-benchmarks/2DBinPacking/2DLevelPacking.mzn\n",
      "minizinc-benchmarks/2DBinPacking\n",
      "minizinc-benchmarks/cutstock/cutstock.mzn\n",
      "minizinc-benchmarks/cutstock\n",
      "minizinc-benchmarks/jobshop/jobshop.mzn\n",
      "minizinc-benchmarks/jobshop\n",
      "minizinc-benchmarks/vrp/vrp.mzn\n",
      "minizinc-benchmarks/vrp\n",
      "minizinc-benchmarks/open_stacks/open_stacks_01.mzn\n",
      "minizinc-benchmarks/open_stacks\n"
     ]
    }
   ],
   "source": [
    "for p in config.PROBLEMS:\n",
    "        mzn = os.path.basename(p.mzn_path)  \n",
    "        print(p.mzn_path)\n",
    "        print(os.path.dirname(p.mzn_path))"
   ]
  },
  {
   "cell_type": "code",
   "execution_count": 21,
   "metadata": {},
   "outputs": [
    {
     "data": {
      "text/html": [
       "<div>\n",
       "<style scoped>\n",
       "    .dataframe tbody tr th:only-of-type {\n",
       "        vertical-align: middle;\n",
       "    }\n",
       "\n",
       "    .dataframe tbody tr th {\n",
       "        vertical-align: top;\n",
       "    }\n",
       "\n",
       "    .dataframe thead th {\n",
       "        text-align: right;\n",
       "    }\n",
       "</style>\n",
       "<table border=\"1\" class=\"dataframe\">\n",
       "  <thead>\n",
       "    <tr style=\"text-align: right;\">\n",
       "      <th></th>\n",
       "      <th>dzn</th>\n",
       "      <th>solver</th>\n",
       "    </tr>\n",
       "    <tr>\n",
       "      <th>mzn</th>\n",
       "      <th></th>\n",
       "      <th></th>\n",
       "    </tr>\n",
       "  </thead>\n",
       "  <tbody>\n",
       "    <tr>\n",
       "      <th>2DLevelPacking.mzn</th>\n",
       "      <td>1200</td>\n",
       "      <td>1200</td>\n",
       "    </tr>\n",
       "    <tr>\n",
       "      <th>cutstock.mzn</th>\n",
       "      <td>268</td>\n",
       "      <td>268</td>\n",
       "    </tr>\n",
       "    <tr>\n",
       "      <th>mrcpsp.mzn</th>\n",
       "      <td>33196</td>\n",
       "      <td>33196</td>\n",
       "    </tr>\n",
       "  </tbody>\n",
       "</table>\n",
       "</div>"
      ],
      "text/plain": [
       "                      dzn  solver\n",
       "mzn                              \n",
       "2DLevelPacking.mzn   1200    1200\n",
       "cutstock.mzn          268     268\n",
       "mrcpsp.mzn          33196   33196"
      ]
     },
     "execution_count": 21,
     "metadata": {},
     "output_type": "execute_result"
    }
   ],
   "source": [
    "missing.groupby(['mzn']).count()"
   ]
  }
 ],
 "metadata": {
  "kernelspec": {
   "display_name": "Python [conda env:banditcp]",
   "language": "python",
   "name": "conda-env-banditcp-py"
  },
  "language_info": {
   "codemirror_mode": {
    "name": "ipython",
    "version": 3
   },
   "file_extension": ".py",
   "mimetype": "text/x-python",
   "name": "python",
   "nbconvert_exporter": "python",
   "pygments_lexer": "ipython3",
   "version": "3.6.8"
  }
 },
 "nbformat": 4,
 "nbformat_minor": 2
}
